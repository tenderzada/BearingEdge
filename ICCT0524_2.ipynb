{
 "cells": [
  {
   "cell_type": "code",
   "execution_count": 1,
   "id": "c4133731-0ae1-4a6f-8e5c-d0b769be9ac7",
   "metadata": {},
   "outputs": [
    {
     "name": "stderr",
     "output_type": "stream",
     "text": [
      "/home/ic-lab/miniconda3/envs/torch_v1.9_gpu/lib/python3.8/site-packages/tqdm/auto.py:22: TqdmWarning: IProgress not found. Please update jupyter and ipywidgets. See https://ipywidgets.readthedocs.io/en/stable/user_install.html\n",
      "  from .autonotebook import tqdm as notebook_tqdm\n"
     ]
    }
   ],
   "source": [
    "import torch\n",
    "import torch.nn as nn\n",
    "import torch.optim as optim\n",
    "from torch.utils.data import Dataset, DataLoader, random_split\n",
    "import numpy as np\n",
    "import matplotlib.pyplot as plt"
   ]
  },
  {
   "cell_type": "code",
   "execution_count": 2,
   "id": "e3e1c51c-6984-49fd-85d5-46c85eb82b14",
   "metadata": {},
   "outputs": [],
   "source": [
    "task_datasets = []\n",
    "\n",
    "# Task 1\n",
    "task1_data = np.load('./cwru1_X_train.npy')\n",
    "task1_labels = np.load('./cwru2_y_train.npy')\n",
    "\n",
    "# Task 2\n",
    "task2_data = np.load('./cwru2_X_train.npy')\n",
    "task2_labels = np.load('./cwru2_y_train.npy')\n",
    "\n",
    "# Task 3\n",
    "task3_data = np.load('./cwru3_X_train.npy')\n",
    "task3_labels = np.load('./cwru3_y_train.npy')\n",
    "\n",
    "# Task 4\n",
    "task4_data = np.load('./cwru4_X_train.npy')\n",
    "task4_labels = np.load('./cwru4_y_train.npy')"
   ]
  },
  {
   "cell_type": "code",
   "execution_count": 3,
   "id": "470ef573-7adc-4e4d-a608-58f6421d2c10",
   "metadata": {},
   "outputs": [],
   "source": [
    "# Convert the data to PyTorch tensors\n",
    "# Task 1\n",
    "task1_data = torch.from_numpy(task1_data)\n",
    "task1_labels = torch.from_numpy(task1_labels)\n",
    "\n",
    "# Task 2\n",
    "task2_data = torch.from_numpy(task2_data)\n",
    "task2_labels = torch.from_numpy(task2_labels)\n",
    "\n",
    "# Task 3\n",
    "task3_data = torch.from_numpy(task3_data)\n",
    "task3_labels = torch.from_numpy(task3_labels)\n",
    "\n",
    "# Task 4\n",
    "task4_data = torch.from_numpy(task4_data).double()\n",
    "task4_labels = torch.from_numpy(task4_labels).double()"
   ]
  },
  {
   "cell_type": "code",
   "execution_count": 4,
   "id": "cf8c06d9-9173-477f-a829-82052270f3fa",
   "metadata": {},
   "outputs": [],
   "source": [
    "# data transpose\n",
    "task1_data = task1_data.transpose(1, 2)\n",
    "task2_data = task2_data.transpose(1, 2)\n",
    "task3_data = task3_data.transpose(1, 2)\n",
    "task4_data = task4_data.transpose(1, 2)"
   ]
  },
  {
   "cell_type": "code",
   "execution_count": 5,
   "id": "94a8cc5e-e7ca-4a5c-a539-e54bcdf11b7d",
   "metadata": {},
   "outputs": [],
   "source": [
    "# dataset for task 1~4\n",
    "dataset1 = torch.utils.data.TensorDataset(task1_data, task1_labels)\n",
    "dataset2 = torch.utils.data.TensorDataset(task2_data, task2_labels)\n",
    "dataset3 = torch.utils.data.TensorDataset(task3_data, task3_labels)\n",
    "dataset4 = torch.utils.data.TensorDataset(task4_data, task4_labels)"
   ]
  },
  {
   "cell_type": "code",
   "execution_count": 6,
   "id": "f422ba26-2b20-4733-9a03-f3b6aa6429a9",
   "metadata": {},
   "outputs": [],
   "source": [
    "# 划分训练集和测试集\n",
    "train_size = int(0.8 * len(dataset1))\n",
    "test_size = len(dataset1) - train_size\n",
    "\n",
    "train_dataset1, test_dataset1 = random_split(dataset1, [train_size, test_size])\n",
    "train_dataset2, test_dataset2 = random_split(dataset2, [train_size, test_size])\n",
    "train_dataset3, test_dataset3 = random_split(dataset3, [train_size, test_size])\n",
    "train_dataset4, test_dataset4 = random_split(dataset4, [train_size, test_size])"
   ]
  },
  {
   "cell_type": "code",
   "execution_count": 7,
   "id": "0869e18d-f6d2-4ca7-98d9-856ccecadf9e",
   "metadata": {},
   "outputs": [],
   "source": [
    "task_datasets.append((train_dataset1, test_dataset1))\n",
    "task_datasets.append((train_dataset2, test_dataset2))\n",
    "task_datasets.append((train_dataset3, test_dataset3))\n",
    "task_datasets.append((train_dataset4, test_dataset4))"
   ]
  },
  {
   "cell_type": "code",
   "execution_count": 8,
   "id": "f964e8fe-a0aa-4811-b952-3d0c3b6cefbf",
   "metadata": {},
   "outputs": [],
   "source": [
    "# 定义WDCNN模型\n",
    "class WDCNN(nn.Module):\n",
    "    def __init__(self, num_classes):\n",
    "        super(WDCNN, self).__init__()\n",
    "        self.conv1 = nn.Conv1d(2, 32, kernel_size=3, padding=1)\n",
    "        self.relu1 = nn.ReLU()\n",
    "        self.pool1 = nn.MaxPool1d(kernel_size=2, stride=2)\n",
    "        self.conv2 = nn.Conv1d(32, 64, kernel_size=3, padding=1)\n",
    "        self.relu2 = nn.ReLU()\n",
    "        self.pool2 = nn.MaxPool1d(kernel_size=2, stride=2)\n",
    "        self.fc1 = nn.Linear(64 * 256, 128)\n",
    "        self.relu3 = nn.ReLU()\n",
    "        self.fc2 = nn.Linear(128, num_classes)\n",
    "\n",
    "    def forward(self, x):\n",
    "        x = self.conv1(x)\n",
    "        x = self.relu1(x)\n",
    "        x = self.pool1(x)\n",
    "        x = self.conv2(x)\n",
    "        x = self.relu2(x)\n",
    "        x = self.pool2(x)\n",
    "        x = x.view(x.size(0), -1)\n",
    "        x = self.fc1(x)\n",
    "        x = self.relu3(x)\n",
    "        x = self.fc2(x)\n",
    "        return x"
   ]
  },
  {
   "cell_type": "code",
   "execution_count": 14,
   "id": "184919cb-631e-4cac-af2b-0cb4fdfd453d",
   "metadata": {},
   "outputs": [
    {
     "name": "stdout",
     "output_type": "stream",
     "text": [
      "Training Task 1\n",
      "Training Task 2\n",
      "Training Task 3\n",
      "Training Task 4\n"
     ]
    }
   ],
   "source": [
    "# 创建WDCNN模型实例\n",
    "device = torch.device(\"cuda\" if torch.cuda.is_available() else \"cpu\")\n",
    "\n",
    "# Create model and optimizers\n",
    "model = WDCNN(num_classes=10).to(device)\n",
    "model.double()\n",
    "optimizer = optim.Adam(model.parameters(), lr=0.001)\n",
    "\n",
    "# Define the loss function\n",
    "criterion = nn.CrossEntropyLoss()\n",
    "\n",
    "# training and testing\n",
    "num_epochs = 10\n",
    "task_accuracies = []\n",
    "\n",
    "for i in range(4): # each task\n",
    "    print(f\"Training Task {i+1}\")\n",
    "    \n",
    "    # Reset the parameter of model\n",
    "    model.apply(lambda m: setattr(m, 'prev_weights', None))\n",
    "    \n",
    "    train_loader = torch.utils.data.DataLoader(task_datasets[i][0], batch_size=32, shuffle=True)\n",
    "    \n",
    "    # Set training set and test set of current task\n",
    "    # train_subset_indices = range(i * 2000, (i+1) * 2000)\n",
    "    # test_subset_indices = range(0, 14000) if i == 0 else range((i+1) * 2000, 14000)\n",
    "    # train_subset = torch.utils.data.Subset(train_dataset, train_subset_indices)\n",
    "    # test_subset = torch.utils.data.Subset(test_dataset, test_subset_indices)\n",
    "    # train_loader = DataLoader(train_subset, batch_size=32, shuffle=True)\n",
    "    # test_loader = DataLoader(test_subset, batch_size=32, shuffle=True)\n",
    "    \n",
    "    # Training\n",
    "    for epoch in range(num_epochs):\n",
    "        model.train()\n",
    "        for inputs, labels in train_loader:\n",
    "            inputs = inputs.to(device, dtype=torch.double)\n",
    "            labels = labels.to(device, dtype=torch.long)\n",
    "            \n",
    "            # inputs = inputs.to(device)  # 移动到设备上\n",
    "            # labels = labels.to(device)\n",
    "            optimizer.zero_grad()\n",
    "            outputs = model(inputs)\n",
    "            loss = criterion(outputs ,labels)\n",
    "            loss.backward()\n",
    "            optimizer.step()\n",
    "    \n",
    "    model.eval()\n",
    "    accuracies = []\n",
    "    for j in range(4):\n",
    "        # test_subset_indices = range(j * 2000, (j+1) * 2000)\n",
    "        # test_subset = torch.utils.data.Subset(test_dataset, test_subset_indices)\n",
    "        test_loader = torch.utils.data.DataLoader(task_datasets[j][1], batch_size=32, shuffle=False)\n",
    "        total = 0\n",
    "        correct = 0\n",
    "        for inputs, labels in test_loader:\n",
    "            inputs = inputs.to(device, dtype=torch.double)\n",
    "            labels = labels.to(device, dtype=torch.long)\n",
    "            \n",
    "            # inputs = inputs.to(device)  # 移动到设备上\n",
    "            # labels = labels.to(device)\n",
    "            outputs = model(inputs)\n",
    "            _, predicted = torch.max(outputs.data, 1)\n",
    "            total += labels.size(0)\n",
    "            correct += (predicted == labels).sum().item()\n",
    "        accuracy = 100 * correct / total\n",
    "        accuracies.append(accuracy)\n",
    "        \n",
    "    task_accuracies.append(accuracies)"
   ]
  },
  {
   "cell_type": "code",
   "execution_count": 15,
   "id": "6eeef3ef-7e68-4e31-8277-96fb12eef386",
   "metadata": {},
   "outputs": [
    {
     "data": {
      "image/png": "[encoded data removed]",
      "text/plain": [
       "<Figure size 432x288 with 1 Axes>"
      ]
     },
     "metadata": {
      "needs_background": "light"
     },
     "output_type": "display_data"
    }
   ],
   "source": [
    "# \n",
    "x = range(1, 5)\n",
    "plt.plot(x, task_accuracies)\n",
    "plt.xlabel('Task')\n",
    "plt.ylabel('Accuracy')\n",
    "plt.title('Accuracy on Other Task Test Sets')\n",
    "plt.show()"
   ]
  },
  {
   "cell_type": "code",
   "execution_count": 16,
   "id": "a21c5ba4-bc6d-49d7-884c-689f318d56c7",
   "metadata": {},
   "outputs": [
    {
     "name": "stdout",
     "output_type": "stream",
     "text": [
      "[[99.78571428571429, 61.785714285714285, 55.392857142857146, 52.5], [74.89285714285714, 99.85714285714286, 99.67857142857143, 81.25], [76.57142857142857, 98.89285714285714, 100.0, 91.67857142857143], [75.0, 79.60714285714286, 89.17857142857143, 100.0]]\n"
     ]
    }
   ],
   "source": [
    "print(task_accuracies)"
   ]
  },
  {
   "cell_type": "code",
   "execution_count": null,
   "id": "4b02894c-02d3-4790-89e5-24c6613f5c0c",
   "metadata": {},
   "outputs": [],
   "source": []
  }
 ],
 "metadata": {
  "kernelspec": {
   "display_name": "torch_v1.9_gpu",
   "language": "python",
   "name": "torch_v1.9_gpu"
  },
  "language_info": {
   "codemirror_mode": {
    "name": "ipython",
    "version": 3
   },
   "file_extension": ".py",
   "mimetype": "text/x-python",
   "name": "python",
   "nbconvert_exporter": "python",
   "pygments_lexer": "ipython3",
   "version": "3.8.13"
  }
 },
 "nbformat": 4,
 "nbformat_minor": 5
}
